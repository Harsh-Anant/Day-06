{
 "cells": [
  {
   "cell_type": "markdown",
   "metadata": {},
   "source": [
    "__1.__ ___Program to print the company name from the given username@companyname.com format of email id.___"
   ]
  },
  {
   "cell_type": "code",
   "execution_count": 2,
   "metadata": {},
   "outputs": [
    {
     "name": "stdout",
     "output_type": "stream",
     "text": [
      "Enter the email id: john@google.com\n",
      "google\n"
     ]
    }
   ],
   "source": [
    "email=input(\"Enter the email id: \")\n",
    "email=email.split(\"@\")\n",
    "email=email[1].split(\".\")\n",
    "print(email[0])"
   ]
  },
  {
   "cell_type": "markdown",
   "metadata": {},
   "source": [
    "__2.__ ___Program to print the entered words in the alphabetical order.___ "
   ]
  },
  {
   "cell_type": "code",
   "execution_count": 7,
   "metadata": {},
   "outputs": [
    {
     "name": "stdout",
     "output_type": "stream",
     "text": [
      "Enter the words: without,hello,bag,world\n",
      "bag,hello,without,world"
     ]
    }
   ],
   "source": [
    "inp=input(\"Enter the words: \").split(\",\")\n",
    "inp=sorted(inp)\n",
    "print(inp[0],end=\"\")\n",
    "for i in range(1,len(inp)):\n",
    "    print(\",\"+inp[i],end=\"\")"
   ]
  },
  {
   "cell_type": "markdown",
   "metadata": {},
   "source": [
    "__3.__ ___Python Sets___\n",
    "\n",
    "In python, sets are defined as a collection which is unindexed and unordered and are written with curly brackets just like in mathematics."
   ]
  },
  {
   "cell_type": "code",
   "execution_count": 67,
   "metadata": {},
   "outputs": [
    {
     "name": "stdout",
     "output_type": "stream",
     "text": [
      "{'lets', 'upgrade', 'rocks'}\n"
     ]
    }
   ],
   "source": [
    "# For example\n",
    "set1={\"lets\",\"upgrade\",\"rocks\"}\n",
    "print(set1)"
   ]
  },
  {
   "cell_type": "code",
   "execution_count": 68,
   "metadata": {},
   "outputs": [
    {
     "name": "stdout",
     "output_type": "stream",
     "text": [
      "Set elements are: \n",
      "lets\n",
      "upgrade\n",
      "rocks\n",
      "\n",
      "True\n"
     ]
    }
   ],
   "source": [
    "# Accessing of sets\n",
    "#As sets are unordered, so we can't use indexing to access its elements though we can iterate over set elements through loops.\n",
    "\n",
    "print(\"Set elements are: \")\n",
    "for i in set1:\n",
    "    print(i)\n",
    "print()\n",
    "\n",
    "# We can also use 'in' keyword to search an item present in the set or not.\n",
    "if \"lets\" in set1:\n",
    "    print(\"True\")\n",
    "else:\n",
    "    print(\"False\")\n"
   ]
  },
  {
   "cell_type": "code",
   "execution_count": 69,
   "metadata": {},
   "outputs": [
    {
     "name": "stdout",
     "output_type": "stream",
     "text": [
      "{'lets', 'upgrade', 'rocks', 'AL-ML'}\n",
      "\n",
      "{1, 3, 4, 'rocks', '56', 'AL-ML', 'lets', 'upgrade'}\n"
     ]
    }
   ],
   "source": [
    "# Sets are immutable in nature i.e once the sets are created we can't, change its items.\n",
    "\n",
    "# But we can add new items to it using 'add' and 'update' methods. \n",
    "\n",
    "# Add method is used to add one item in the set while Update method is used to add more than one items in the set. \n",
    "\n",
    "set1.add(\"AL-ML\")\n",
    "print(set1)\n",
    "print()\n",
    "set1.update([1,4,\"56\",3])\n",
    "print(set1)"
   ]
  },
  {
   "cell_type": "code",
   "execution_count": 70,
   "metadata": {},
   "outputs": [
    {
     "name": "stdout",
     "output_type": "stream",
     "text": [
      "8\n"
     ]
    }
   ],
   "source": [
    "# To find the length or no. of elements present in the set 'len' method is used.\n",
    "\n",
    "print(len(set1))"
   ]
  },
  {
   "cell_type": "code",
   "execution_count": 71,
   "metadata": {},
   "outputs": [
    {
     "name": "stdout",
     "output_type": "stream",
     "text": [
      "{1, 3, 4, 'rocks', '56', 'lets', 'upgrade'}\n",
      "{3, 4, 'rocks', '56', 'lets', 'upgrade'}\n"
     ]
    }
   ],
   "source": [
    "#To remove an element in a set, we use the remove(), or the discard() method.\n",
    "# Remove function will raise the error if the item to be removed is not present in the set while discard function will not raise \n",
    "# the error.\n",
    "\n",
    "set1.remove(\"AL-ML\")\n",
    "print(set1)\n",
    "set1.discard(1)\n",
    "print(set1)"
   ]
  },
  {
   "cell_type": "code",
   "execution_count": 72,
   "metadata": {},
   "outputs": [
    {
     "name": "stdout",
     "output_type": "stream",
     "text": [
      "{3, 4, 'rocks', '56', 'lets', 'upgrade'}\n",
      "3\n"
     ]
    }
   ],
   "source": [
    "# pop() method can also be used to remove the element from the set but it will always remove the last element of the set\n",
    "# as set is an unordered collection so which element will be deleted will no be known to us.\n",
    "# Pop function will resturn the removed element from the set.\n",
    "\n",
    "print(set1)\n",
    "print(set1.pop())"
   ]
  },
  {
   "cell_type": "code",
   "execution_count": 73,
   "metadata": {},
   "outputs": [
    {
     "name": "stdout",
     "output_type": "stream",
     "text": [
      "set()\n"
     ]
    }
   ],
   "source": [
    "# clear() method is used to remove all the elements from the set.\n",
    "set1.clear()\n",
    "print(set1)"
   ]
  },
  {
   "cell_type": "code",
   "execution_count": 66,
   "metadata": {},
   "outputs": [
    {
     "name": "stdout",
     "output_type": "stream",
     "text": [
      "set()\n"
     ]
    },
    {
     "ename": "NameError",
     "evalue": "name 'set1' is not defined",
     "output_type": "error",
     "traceback": [
      "\u001b[1;31m---------------------------------------------------------------------------\u001b[0m",
      "\u001b[1;31mNameError\u001b[0m                                 Traceback (most recent call last)",
      "\u001b[1;32m<ipython-input-66-5cbcc6018c56>\u001b[0m in \u001b[0;36m<module>\u001b[1;34m()\u001b[0m\n\u001b[0;32m      2\u001b[0m \u001b[0mprint\u001b[0m\u001b[1;33m(\u001b[0m\u001b[0mset1\u001b[0m\u001b[1;33m)\u001b[0m\u001b[1;33m\u001b[0m\u001b[0m\n\u001b[0;32m      3\u001b[0m \u001b[1;32mdel\u001b[0m \u001b[0mset1\u001b[0m\u001b[1;33m\u001b[0m\u001b[0m\n\u001b[1;32m----> 4\u001b[1;33m \u001b[0mprint\u001b[0m\u001b[1;33m(\u001b[0m\u001b[0mset1\u001b[0m\u001b[1;33m)\u001b[0m\u001b[1;33m\u001b[0m\u001b[0m\n\u001b[0m",
      "\u001b[1;31mNameError\u001b[0m: name 'set1' is not defined"
     ]
    }
   ],
   "source": [
    "#del keyword is used to delete the set completely.\n",
    "print(set1)\n",
    "del set1\n",
    "print(set1)"
   ]
  },
  {
   "cell_type": "code",
   "execution_count": 77,
   "metadata": {},
   "outputs": [
    {
     "name": "stdout",
     "output_type": "stream",
     "text": [
      "{1, 4, 6, 'lets', 'upgrade', 'rocks'}\n",
      "{1, 4, 6, 'lets', 'upgrade', 'rocks'}\n"
     ]
    }
   ],
   "source": [
    "# Joining the sets\n",
    "# union() and update()  method is used to join the sets.\n",
    "#The union() method returns a new set with all items from both sets.\n",
    "\n",
    "set1 = {\"lets\", \"upgrade\" , \"rocks\"}\n",
    "set2 = {1, 4, 6}\n",
    "\n",
    "set3 = set1.union(set2)\n",
    "print(set3)\n",
    "\n",
    "# The update() method inserts the items in set2 into set1.\n",
    "set3 = {\"lets\", \"upgrade\" , \"rockc\"}\n",
    "set4 = {1, 2, 3}\n",
    "\n",
    "set1.update(set2)\n",
    "print(set1)"
   ]
  },
  {
   "cell_type": "code",
   "execution_count": 82,
   "metadata": {},
   "outputs": [
    {
     "name": "stdout",
     "output_type": "stream",
     "text": [
      "{'a', 'l', 'e', 'p'}\n"
     ]
    }
   ],
   "source": [
    "#It is also possible to use the set() constructor to make a set.\n",
    "sets=set((\"apple\"))\n",
    "print(sets)"
   ]
  },
  {
   "cell_type": "markdown",
   "metadata": {},
   "source": [
    "__4.__ ___Program to print the missing number in the given list.___"
   ]
  },
  {
   "cell_type": "code",
   "execution_count": 1,
   "metadata": {},
   "outputs": [
    {
     "name": "stdout",
     "output_type": "stream",
     "text": [
      "Enter the numbers: 1 2 4 6 3 7 8\n",
      "5\n"
     ]
    }
   ],
   "source": [
    "a=list(map(int,input(\"Enter the numbers: \").split()))\n",
    "a=sorted(a)\n",
    "for i in range(0,len(a)):\n",
    "    if i+1!=a[i]:\n",
    "        print(i+1)\n",
    "        break"
   ]
  },
  {
   "cell_type": "markdown",
   "metadata": {},
   "source": [
    "__5.__ ___Program to remove the duplicates from the entered list of numbers.___"
   ]
  },
  {
   "cell_type": "code",
   "execution_count": 9,
   "metadata": {},
   "outputs": [
    {
     "name": "stdout",
     "output_type": "stream",
     "text": [
      "Enter the numbers: 12 24 35 24\n",
      "[12, 24, 35]\n"
     ]
    }
   ],
   "source": [
    "l=list(map(int,input(\"Enter the numbers: \").split()))\n",
    "l=sorted(l)\n",
    "b=[]\n",
    "temp=l[0]\n",
    "for i in range(1,len(l)):\n",
    "    if temp==l[i]:\n",
    "        continue\n",
    "    else:\n",
    "        b.append(temp)\n",
    "        temp=l[i]\n",
    "if temp not in b:\n",
    "    b.append(temp)\n",
    "print(b)   "
   ]
  }
 ],
 "metadata": {
  "kernelspec": {
   "display_name": "Python 3",
   "language": "python",
   "name": "python3"
  },
  "language_info": {
   "codemirror_mode": {
    "name": "ipython",
    "version": 3
   },
   "file_extension": ".py",
   "mimetype": "text/x-python",
   "name": "python",
   "nbconvert_exporter": "python",
   "pygments_lexer": "ipython3",
   "version": "3.5.6"
  }
 },
 "nbformat": 4,
 "nbformat_minor": 2
}
